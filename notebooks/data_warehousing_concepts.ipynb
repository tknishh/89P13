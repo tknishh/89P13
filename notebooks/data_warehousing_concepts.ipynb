{
 "cells": [
  {
   "cell_type": "markdown",
   "id": "df7dbf22",
   "metadata": {},
   "source": [
    "# Data Warehouse\n",
    "\n",
    "A data warehouse is a central repository for data which will be used for reporting and analytics. A data warehouse is a type of data management system that is designed to enable and support business intelligence (BI) activities, especially analytics. Data warehouses are solely intended to perform queries and analysis and often contain large amounts of historical data."
   ]
  },
  {
   "cell_type": "markdown",
   "id": "71a6582b",
   "metadata": {},
   "source": [
    "## Why do we need data warehouses?\n",
    "\n",
    "- you need to retrieve data from many data sources (excel, databases, apis, etc)\n",
    "- creating a DW enables users to create report off of that, rather than having it done by working against operational system, cause it may bring performance issues.\n",
    "- have a single version of truth so that depts create results in complaint to other dept, maintain consistency.\n",
    "- can store historical data (a position when prev records are needed to be saved.)\n",
    "- need to keep historical records, even if source system doesn't.\n",
    "- users might miuse, or corrupt transaction data.\n",
    "- Optimized for read access which makes generating reports faster than using a source transaction system for reporting\n",
    "- focus is on **\"Single version of truth\"**"
   ]
  },
  {
   "cell_type": "markdown",
   "id": "6dd98aeb",
   "metadata": {},
   "source": []
  },
  {
   "cell_type": "code",
   "execution_count": null,
   "id": "c02a7b9f",
   "metadata": {},
   "outputs": [],
   "source": []
  }
 ],
 "metadata": {
  "kernelspec": {
   "display_name": "Python 3 (ipykernel)",
   "language": "python",
   "name": "python3"
  },
  "language_info": {
   "codemirror_mode": {
    "name": "ipython",
    "version": 3
   },
   "file_extension": ".py",
   "mimetype": "text/x-python",
   "name": "python",
   "nbconvert_exporter": "python",
   "pygments_lexer": "ipython3",
   "version": "3.9.13"
  }
 },
 "nbformat": 4,
 "nbformat_minor": 5
}
