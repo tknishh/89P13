{
 "cells": [
  {
   "cell_type": "markdown",
   "id": "df7dbf22",
   "metadata": {},
   "source": [
    "# Data Warehouse\n",
    "\n",
    "A data warehouse is a central repository for data which will be used for reporting and analytics. A data warehouse is a type of data management system that is designed to enable and support business intelligence (BI) activities, especially analytics. Data warehouses are solely intended to perform queries and analysis and often contain large amounts of historical data."
   ]
  },
  {
   "cell_type": "markdown",
   "id": "71a6582b",
   "metadata": {},
   "source": [
    "## Why do we need data warehouses?\n",
    "\n",
    "- you need to retrieve data from many data sources (excel, databases, apis, etc)\n",
    "- creating a DW enables users to create report off of that, rather than having it done by working against operational system, cause it may bring performance issues.\n",
    "- have a single version of truth so that depts create results in complaint to other dept, maintain consistency.\n",
    "- can store historical data (a position when prev records are needed to be saved.)\n",
    "- need to keep historical records, even if source system doesn't.\n",
    "- users might miuse, or corrupt transaction data.\n",
    "- Optimized for read access which makes generating reports faster than using a source transaction system for reporting\n",
    "- focus is on **\"Single version of truth\"**\n",
    "\n",
    "### Disadvantages\n",
    "- A significant investment of time and resources to properly build\n",
    "- Not designed for ingesting data in real-time (although they can typically handle near real-time)"
   ]
  },
  {
   "cell_type": "markdown",
   "id": "264488ab",
   "metadata": {},
   "source": [
    "## Architecture\n",
    "\n",
    "### Conventional\n",
    "\n",
    "- takes data from various sources like databases, files, cloud etc.\n",
    "- data arrives at staging area where some business logic is applied before moving it to data warehouse if deemed necessary.\n",
    "- DQS(Data Quality Services) are responsible to store various data quality checks and rules. Whereas MDS(Master data Services) is where core entites of master data is stored.\n",
    "- SSIS is SQL server intergration tool.\n",
    "\n",
    "\n",
    "### Modern-DW\n",
    "\n",
    "- It is maybe a combination of both an on-premise data warehouse and cloud data warehouse or only cloud data warehouse according to need. \n",
    "- Data is ingested from various sources into storage blob(azure data-stack) which stores all the data as file. It is like a data lake where as azure synapse is like data warehouse. These both are part of your data factory. "
   ]
  },
  {
   "cell_type": "markdown",
   "id": "cfc0e31a",
   "metadata": {},
   "source": [
    "## OLTP vs OLAP\n",
    "\n",
    "### OLTP\n",
    "\n",
    "- stands for Online Transaction Processing\n",
    "- it captures, stores, and process data from trnasactions in real-time\n",
    "- design to capture data quickly\n",
    "- it stores data in various tables for a given transaction like, updates data when a purchase is made. Updates order table, product table, customer table etc.\n",
    "- Used for day-to-day operation.\n",
    "- Application oriented.\n",
    "- It's usage is repetitve as it is current data, up-to-date, flat, relational and isolated.\n",
    "- read/write operations accessed.\n",
    "- unit of work is for short and simple transactions\n",
    "- database size varies in GBs\n",
    "- metric against it is Transaction throughput.\n",
    "\n",
    "\n",
    "### OLAP\n",
    "\n",
    "- stands for Online Analytical Processing\n",
    "- it uses complex queries to analyse aggregated historical data from OLTP systems\n",
    "- designed for creating reports.\n",
    "- data is stored in form of multiple cubes like a rubik cube where each block or smaller cube represent aggregated computation of certain dimensions. It may be like a small cube will represent total sales in month of Jan in 2023 for a product phone.\n",
    "- all the data is stored in this way, this is why it is super performant and quicker with queries.\n",
    "- helpful with decision support.\n",
    "- Subject oriented.\n",
    "- data is historical, summarized multi-dimensional, consolidated.\n",
    "- used only when a purpose is to be fulfilled, i.e. ad-hoc.\n",
    "- Requires a lots of scans, needs complex queries, data size is in TBs, metric for this is query throughput and response.\n",
    "\n",
    "\n",
    "#### Dimensions of a data could be understand like a particular product, sold at certain time and at certain location. So here, product, location and time are dimensions of the data."
   ]
  },
  {
   "cell_type": "markdown",
   "id": "37b4eaf3",
   "metadata": {},
   "source": [
    "## Staging Vs ODS\n",
    "\n",
    "### Staging \n",
    "\n",
    "- It stands between data sources and data targets for smooth processing.\n",
    "- helpful to store immediate data from sources and apply business logic to them before loading them into data warehouse or data targets.\n",
    "\n",
    "### ODS (Operational Data Store)\n",
    "\n",
    "- not used by many organizations in general.\n",
    "- it is basically a snapshot of latest data from **multiple** transactional systems for operational reporting.\n",
    "- ODS acts as a source for DW where we store data from source systems so that we don't have to touch them again and again. Thus preserving great deal of processing and storage.\n"
   ]
  },
  {
   "cell_type": "markdown",
   "id": "bd1e92ea",
   "metadata": {},
   "source": [
    "## Dimension Modelling\n",
    "\n",
    "- Design methodology required to design DW is called Dimension Modelling.\n",
    "- It is data structure technique optimized for data storage in DW.\n",
    "- It's purpose is to optimize database for faster retrieval of data.\n",
    "- Built it in star-schema or snowflake schema, with dimentions surrounding fact table.\n",
    "\n",
    "\n",
    "### Steps to design\n",
    "\n",
    "- Choose business process (Is it sales, analytics, HR, Finance, etc.) \n",
    "- declare grain/granularity (lowest level data is maintained, like weekly, monthly etc.)\n",
    "- Identify dimensions.\n",
    "- identify the fact.\n",
    "\n",
    "\n",
    "### Star Vs Snowflake\n",
    "\n",
    "- one fact table is connected to all dimension tables in star whereas the fact table connected with dimension table  which is further connected with other dimension table is SnowFlake.\n",
    "- **Fact table indirectly connected to the dimension table via another dimension table is snowflake schema.**\n",
    "\n",
    "\n",
    "### Fact vs Dimension\n",
    "\n",
    "#### Fact (aka measure)\n",
    "\n",
    "- What you want to analyse is your fact\n",
    "- like what is my sales, what is my profit, etc.\n",
    "\n",
    "#### Dimension\n",
    "\n",
    "- by which you want to analyse is your dimension\n",
    "- Sales by location, product, period, etc.\n",
    "- total profit by location, period, product, etc.\n",
    "- all dimensions should be stored separately and all dimension tables should be connected to fact table."
   ]
  },
  {
   "cell_type": "markdown",
   "id": "37e4c3c4",
   "metadata": {},
   "source": [
    "### Data Mart\n",
    "\n",
    "- It is a subject oriented database that is often a partition of DW\n",
    "- the data held in Data mart typically aligns with particular business unit like, finance, sales, marketing etc."
   ]
  },
  {
   "cell_type": "markdown",
   "id": "7d6c6b7e",
   "metadata": {},
   "source": [
    "#### Granularity: the lowest level to which the data is maintained. higher the granularity of fact table, more data in fact.\n",
    "\n",
    "#### Cardinality is related to dim tables. it can be either \"low\" or \"high\". ITC has high cardinality of product rather than some small restaurant. It is all about how many distinct values are there in a column.\n"
   ]
  },
  {
   "cell_type": "markdown",
   "id": "0d509e5e",
   "metadata": {},
   "source": [
    "## SCD (Slowly changing Dimensions)\n",
    "\n",
    "- The handling of the dimensions that change slowly and irregurarly over time is called, SCD.\n",
    "- there are diff ways to handle it (total 6). they are named as SCD-I, SCD-II, SCD-III. These 3 are mostly used in Industry.\n",
    "- SCD-I, overwrite old data woth new data, hence doesn't store historcial data.\n",
    "- SCD-II, we add another transaction with separate surrogate key. and based on some fact entity (like date) we determine which record is to be used.\n",
    "- SCD-III, tracks changes using separate columns and preserves limited history.\n",
    "\n",
    "- **Example**: Suppose as a working professional I change state due to work. In SCD-I we'll overwrite my current state. i.e. from Maharashtra to MP. In SCD-II we'll add another record with new state and keep tabs of my start and end dates in a certain state for query purpose. In SCD-III we keep 2 columns one with original state/Prev State and another with current. But it'll be limited to 2 historical values only in this case."
   ]
  },
  {
   "cell_type": "markdown",
   "id": "6824b4dd",
   "metadata": {},
   "source": [
    "### Surrogate key \n",
    "\n",
    "- is a synthetic key used as substitute for natural key. It's always an integer. \n",
    "- It is important to have a surrogate key in DW. It's a thumb-rule.\n",
    "- It should always be added by you. It can't be any of the existing columns.\n",
    "- Since it is integer it provides quick performance."
   ]
  },
  {
   "cell_type": "markdown",
   "id": "8b329d9c",
   "metadata": {},
   "source": [
    "### Types of Dimension\n",
    "\n",
    "- Confirmed Dimension: When a dimension table is used or referred in more than one fact table then it is confirmed dimension.\n",
    "- Role-Playing Dimension: When same dimension is used by a fact table multiple times for different roles.\n",
    "- Junk Dimension: When multiple dimension tables can be combined.\n",
    "- Degenerated Dimension: When dim_table can be merged into fact table. \n",
    "- Slowly Changing Dimension: Explained above."
   ]
  },
  {
   "cell_type": "markdown",
   "id": "331fbf86",
   "metadata": {},
   "source": [
    "### DW - Unknown, Not Available, Not Applicable."
   ]
  }
 ],
 "metadata": {
  "kernelspec": {
   "display_name": "Python 3 (ipykernel)",
   "language": "python",
   "name": "python3"
  },
  "language_info": {
   "codemirror_mode": {
    "name": "ipython",
    "version": 3
   },
   "file_extension": ".py",
   "mimetype": "text/x-python",
   "name": "python",
   "nbconvert_exporter": "python",
   "pygments_lexer": "ipython3",
   "version": "3.9.13"
  }
 },
 "nbformat": 4,
 "nbformat_minor": 5
}
