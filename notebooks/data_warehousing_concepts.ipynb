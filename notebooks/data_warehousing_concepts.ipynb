{
 "cells": [
  {
   "cell_type": "markdown",
   "id": "26209273",
   "metadata": {},
   "source": [
    "# Data Warehouse\n",
    "\n",
    "A data warehouse is a central repository for data which will be used for reporting and analytics."
   ]
  },
  {
   "cell_type": "code",
   "execution_count": null,
   "id": "d69fa725",
   "metadata": {},
   "outputs": [],
   "source": []
  }
 ],
 "metadata": {
  "kernelspec": {
   "display_name": "Python 3 (ipykernel)",
   "language": "python",
   "name": "python3"
  },
  "language_info": {
   "codemirror_mode": {
    "name": "ipython",
    "version": 3
   },
   "file_extension": ".py",
   "mimetype": "text/x-python",
   "name": "python",
   "nbconvert_exporter": "python",
   "pygments_lexer": "ipython3",
   "version": "3.9.13"
  }
 },
 "nbformat": 4,
 "nbformat_minor": 5
}
