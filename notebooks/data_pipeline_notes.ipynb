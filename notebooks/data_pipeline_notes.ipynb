{
 "cells": [
  {
   "cell_type": "markdown",
   "id": "55e11871",
   "metadata": {},
   "source": [
    "# Data Pipeline"
   ]
  },
  {
   "cell_type": "markdown",
   "id": "dea3983c",
   "metadata": {},
   "source": [
    "- Data pipeline is a term used to describe a workflow consisting of one or more tasks that ingest, move, transform raw data from one or more sources to a destination.\n",
    "\n",
    "- Results of this data pipeline are used for machine learning, analysis and business function.\n",
    "\n",
    "- Generally classified in 2 parts --> 1. Batch Processing  2. Real-time processing"
   ]
  },
  {
   "cell_type": "markdown",
   "id": "2b420d86",
   "metadata": {},
   "source": [
    "## Architecture"
   ]
  },
  {
   "cell_type": "markdown",
   "id": "c601ae9e",
   "metadata": {},
   "source": [
    "### 4 parts\n",
    "\n",
    "- A data source\n",
    "- Business Logic\n",
    "- A destination\n",
    "- A scheduler (for batch)"
   ]
  },
  {
   "cell_type": "markdown",
   "id": "b8c6dc45",
   "metadata": {},
   "source": [
    "## Pipeline Types\n",
    "\n",
    "\n",
    "### Change Data Capture (CDC)\n",
    "\n",
    "- Used to replicate changes from source database to target database. \n",
    "- mainly useful if one wants to make changes to their db when the source db is updated (inserted, deleted, or updated)"
   ]
  },
  {
   "cell_type": "markdown",
   "id": "adb1ff62",
   "metadata": {},
   "source": [
    "### ETL (Extract, Transform, and Load)\n",
    "\n",
    "- "
   ]
  }
 ],
 "metadata": {
  "kernelspec": {
   "display_name": "Python 3 (ipykernel)",
   "language": "python",
   "name": "python3"
  },
  "language_info": {
   "codemirror_mode": {
    "name": "ipython",
    "version": 3
   },
   "file_extension": ".py",
   "mimetype": "text/x-python",
   "name": "python",
   "nbconvert_exporter": "python",
   "pygments_lexer": "ipython3",
   "version": "3.9.13"
  }
 },
 "nbformat": 4,
 "nbformat_minor": 5
}
