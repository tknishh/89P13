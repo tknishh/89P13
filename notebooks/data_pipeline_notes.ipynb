{
 "cells": [
  {
   "cell_type": "markdown",
   "id": "55e11871",
   "metadata": {},
   "source": [
    "# Data Pipeline"
   ]
  },
  {
   "cell_type": "markdown",
   "id": "dea3983c",
   "metadata": {},
   "source": [
    "- Data pipeline is a term used to describe a workflow consisting of one or more tasks that ingest, move, transform raw data from one or more sources to a destination.\n",
    "\n",
    "- Results of this data pipeline are used for machine learning, analysis and business function.\n",
    "\n",
    "- Generally classified in 2 parts --> 1. Batch Processing  2. Real-time processing"
   ]
  },
  {
   "cell_type": "markdown",
   "id": "2b420d86",
   "metadata": {},
   "source": []
  },
  {
   "cell_type": "markdown",
   "id": "c601ae9e",
   "metadata": {},
   "source": []
  }
 ],
 "metadata": {
  "kernelspec": {
   "display_name": "Python 3 (ipykernel)",
   "language": "python",
   "name": "python3"
  },
  "language_info": {
   "codemirror_mode": {
    "name": "ipython",
    "version": 3
   },
   "file_extension": ".py",
   "mimetype": "text/x-python",
   "name": "python",
   "nbconvert_exporter": "python",
   "pygments_lexer": "ipython3",
   "version": "3.9.13"
  }
 },
 "nbformat": 4,
 "nbformat_minor": 5
}
