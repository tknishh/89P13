{
 "cells": [
  {
   "cell_type": "markdown",
   "id": "55e11871",
   "metadata": {},
   "source": [
    "# Data Pipeline"
   ]
  },
  {
   "cell_type": "markdown",
   "id": "dea3983c",
   "metadata": {},
   "source": [
    "- Data pipeline is a term used to describe a workflow consisting of one or more tasks that ingest, move, transform raw data from one or more sources to a destination.\n",
    "\n",
    "- "
   ]
  },
  {
   "cell_type": "markdown",
   "id": "2b420d86",
   "metadata": {},
   "source": []
  },
  {
   "cell_type": "markdown",
   "id": "c601ae9e",
   "metadata": {},
   "source": []
  }
 ],
 "metadata": {
  "kernelspec": {
   "display_name": "Python 3 (ipykernel)",
   "language": "python",
   "name": "python3"
  },
  "language_info": {
   "codemirror_mode": {
    "name": "ipython",
    "version": 3
   },
   "file_extension": ".py",
   "mimetype": "text/x-python",
   "name": "python",
   "nbconvert_exporter": "python",
   "pygments_lexer": "ipython3",
   "version": "3.9.13"
  }
 },
 "nbformat": 4,
 "nbformat_minor": 5
}
