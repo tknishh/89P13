{
 "cells": [
  {
   "cell_type": "markdown",
   "id": "45a8b250-a307-4393-9624-16674826578f",
   "metadata": {},
   "source": [
    "Spark consist of RDD and dataframes(next level of RDD, advance processing techniques)\n",
    "\n",
    "Spark supports Java, Scala, Python(Pyspark)\n",
    "\n",
    "Spark shell for python and scala, *repel*\n",
    "\n",
    "spark has in-memory computation, if HDFS is not present then both partitioning and processing is done by spark itself. \n",
    "\n",
    "RDD (Resilient Distributed Dataset) \n",
    "\n",
    "Suppose you have 1 GB data, spark divides it in small small chunks (Blocks) which get replicated and these replicated blocks are distributed across clusters.\n",
    "- Transformations\n",
    "    \n",
    "\n",
    "- Actions"
   ]
  },
  {
   "cell_type": "markdown",
   "id": "73db358c",
   "metadata": {},
   "source": [
    "- spark can perform in-memmory, disk or both where MapReduce can perform only disk."
   ]
  },
  {
   "cell_type": "code",
   "execution_count": null,
   "id": "e119259f-0c87-4bf0-ab31-3a095190346d",
   "metadata": {},
   "outputs": [],
   "source": []
  }
 ],
 "metadata": {
  "kernelspec": {
   "display_name": "Python 3 (ipykernel)",
   "language": "python",
   "name": "python3"
  },
  "language_info": {
   "codemirror_mode": {
    "name": "ipython",
    "version": 3
   },
   "file_extension": ".py",
   "mimetype": "text/x-python",
   "name": "python",
   "nbconvert_exporter": "python",
   "pygments_lexer": "ipython3",
   "version": "3.9.13"
  }
 },
 "nbformat": 4,
 "nbformat_minor": 5
}
