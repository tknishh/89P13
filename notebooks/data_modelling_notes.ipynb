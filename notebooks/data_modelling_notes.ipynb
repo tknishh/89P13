{
 "cells": [
  {
   "cell_type": "markdown",
   "id": "cbd465eb",
   "metadata": {},
   "source": [
    "# Data Modelling\n",
    "\n",
    "## Data Model\n",
    "\n",
    "- It is a representation of data structurea and relationships used in a database or a system.\n",
    "- Data models can be used to design, implement and maintain databases, and support business processes and decision-making.\n",
    "- "
   ]
  }
 ],
 "metadata": {
  "kernelspec": {
   "display_name": "Python 3 (ipykernel)",
   "language": "python",
   "name": "python3"
  },
  "language_info": {
   "codemirror_mode": {
    "name": "ipython",
    "version": 3
   },
   "file_extension": ".py",
   "mimetype": "text/x-python",
   "name": "python",
   "nbconvert_exporter": "python",
   "pygments_lexer": "ipython3",
   "version": "3.9.13"
  }
 },
 "nbformat": 4,
 "nbformat_minor": 5
}
