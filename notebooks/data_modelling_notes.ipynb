{
 "cells": [
  {
   "cell_type": "markdown",
   "id": "2c8afe18",
   "metadata": {},
   "source": [
    "# Data Modelling\n",
    "\n",
    "## Data Model\n",
    "\n",
    "- It is a representation of data structurea and relationships used in a database or a system.\n",
    "- Data models can be used to design, implement and maintain databases, and support business processes and decision-making.\n",
    "\n",
    "### Types\n",
    "\n",
    "- Conceptual: gives a high level view of data and it's relationships. Used to identify main entities and their attributes.\n",
    "- Logical: provides a detailed view, defines structure, contraints, and business rules to be applied on data. it is the foundation of physical data model.\n",
    "- Physical: provides detail view of physical storage of data, including database design, types and indexes."
   ]
  },
  {
   "cell_type": "markdown",
   "id": "470cd761",
   "metadata": {},
   "source": [
    "### Entity Types\n",
    "\n",
    "- **Strong entities:** Entities that have a unique identifier and can exist independently in the real world. For example, a customer or an order.\n",
    "\n",
    "- **Weak entities:** Entities that do not have a unique identifier and rely on a relationship with a strong entity to exist. For example, an invoice line item or a purchase order detail.\n",
    "\n",
    "- **Associative entities:** Entities that represent the relationship between two or more other entities. For example, a customer-order relationship or a product-supplier relationship."
   ]
  },
  {
   "cell_type": "markdown",
   "id": "e48419d0",
   "metadata": {},
   "source": [
    "### Relationship Types\n",
    "\n",
    "- **One-to-one:** A one-to-one relationship is a relationship where a single instance of one entity is related to a single instance of another entity. For example, a single customer can have one account.\n",
    "- **One-to-many:** A one-to-many relationship is a relationship where a single instance of one entity is related to multiple instances of another entity. For example, a single customer can have multiple orders.\n",
    "- **Many-to-many:** A many-to-many relationship is a relationship where multiple instances of one entity are related to multiple instances of another entity. For example, multiple customers can place an order for the same product.\n",
    "- **Supertype-subtype:** A supertype-subtype relationship is a relationship where a general entity (supertype) is related to specific entities (subtypes). For example, an Employee entity could be a supertype to entities for Full-Time Employees and Part-Time Employees.\n",
    "- **Recursive relationship:** A recursive relationship is a relationship where an entity is related to itself. For example, a manager-employee relationship, where an employee can also be a manager of other employees.\n",
    "- **Association relationship:** An association relationship is a relationship that describes the relationship between two entities without explicit cardinality."
   ]
  },
  {
   "cell_type": "markdown",
   "id": "7117540d",
   "metadata": {},
   "source": [
    "### Data Model keys\n",
    "\n",
    "- **Primary key:** A primary key is a unique identifier for a record within a table. It must be ***unique*** for each record and ***cannot be null***. For example, a customer table might have a primary key of “customer_id”, where each customer is assigned a unique ID.\n",
    "- **Foreign key:** A foreign key is a field in a table that ***refers to the primary key of another table***. It is used to establish a link between two tables and to ensure ***referential integrity***. For example, an order table might have a foreign key of “customer_id” that references the primary key of the customer table.\n",
    "- **Alternate key:** An alternate key is a ***unique identifier*** for a record within a table that can be used as an ***alternative to the primary key***. It is used when there are multiple unique identifiers for a record. For example, a product table might have an alternate key of “product_code” in addition to the primary key “product_id”.\n",
    "- **Surrogate key:** A surrogate key is a ***unique identifier*** for a record within a table that is ***not related to the natural attributes of the data***. It is used when there is no natural primary key. For example, an Employee table might have a surrogate key “Employee_number”, which is a unique identifier assigned to each employee."
   ]
  },
  {
   "cell_type": "markdown",
   "id": "96106e4f",
   "metadata": {},
   "source": [
    "### Model Cardinality\n",
    "\n",
    "- 1:1 ***(one-to-one)*** a passport and a person, a person can have one passport and one passport can be assigned to one person.\n",
    "- 1:N ***(one-to-many)*** a customer and an order, a customer can have many orders but an order can only be assigned to one customer.\n",
    "- M:N ***(many-to-many)*** a student and a course, a student can be enrolled in many courses and a course can have many students.\n",
    "- 0:1 ***(zero-to-one)*** an employee and a manager, an employee may have a manager but a manager may not have an employee.\n",
    "- 0:N ***(zero-to-many)*** a company and a branch, a company can have many branches but a branch must have only one company"
   ]
  },
  {
   "cell_type": "markdown",
   "id": "59d82435",
   "metadata": {},
   "source": [
    "### Modeling Normal Forms\n",
    "\n",
    "- **First Normal Form (1NF):** This is the most basic level of normalization. It requires that *each table has a primary key* and that all data is ***atomic***, meaning that *each column contains only one value* and that there are no repeating groups of data.\n",
    "- **Second Normal Form (2NF):** In addition to meeting the requirements of 1NF, a table in 2NF must *not have any partial dependencies*. A **partial dependency** is when a non-primary key column depends on only part of the primary key.\n",
    "- **Third Normal Form (3NF):** In addition to meeting the requirements of 2NF, a table in 3NF must *not have any transitive dependencies*. A **transitive dependency** is when a non-primary key column depends on another non-primary key column.\n",
    "- **Boyce-Codd Normal Form (BCNF):** This is a higher level of normalization than 3NF. In addition to meeting the requirements of 3NF, a table in BCNF must not have any non-trivial functional dependencies. A **non-trivial functional dependency** is when a non-primary key column depends on the entire primary key.\n",
    "- **Fourth Normal Form (4NF) and Fifth Normal Form (5NF)** also exist but are not widely used."
   ]
  },
  {
   "cell_type": "markdown",
   "id": "f200c6e8",
   "metadata": {},
   "source": [
    "**Cascading actions** are the actions that happen when a user performs an action on a parent table that affects the data in related child tables. For example, when a user deletes a record from the parent table, the related records in the child table will also be deleted. This can be a problem if you want to keep the data in the child table, so you can use “restricted cascade” to prevent this cascading effect."
   ]
  },
  {
   "cell_type": "code",
   "execution_count": null,
   "id": "df558a52",
   "metadata": {},
   "outputs": [],
   "source": []
  },
  {
   "cell_type": "markdown",
   "id": "63a5847d",
   "metadata": {},
   "source": [
    "##### ref: https://medium.com/@bojanciric/data-modeling-crash-course-43c73eb9377f"
   ]
  },
  {
   "cell_type": "markdown",
   "id": "2c79ce6b",
   "metadata": {},
   "source": []
  }
 ],
 "metadata": {
  "kernelspec": {
   "display_name": "Python 3 (ipykernel)",
   "language": "python",
   "name": "python3"
  },
  "language_info": {
   "codemirror_mode": {
    "name": "ipython",
    "version": 3
   },
   "file_extension": ".py",
   "mimetype": "text/x-python",
   "name": "python",
   "nbconvert_exporter": "python",
   "pygments_lexer": "ipython3",
   "version": "3.9.13"
  }
 },
 "nbformat": 4,
 "nbformat_minor": 5
}
