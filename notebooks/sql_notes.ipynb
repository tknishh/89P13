{
 "cells": [
  {
   "attachments": {},
   "cell_type": "markdown",
   "id": "069a8f5a",
   "metadata": {},
   "source": [
    "# SQL - Structured Query Language\n",
    "\n",
    "- powerful language for querying and analyzing any amount of data in the world\n",
    "- commonly used for Business Intelligence so companies can make operative decisions\n",
    "- construct long-running data pipelines and process data for business purposes - Spark is a great example of a technology that utilizes SQL syntax to create data pipelines that can continuously process large amounts of data and turn it into another form of useful data, either for insights or for generating new data out of existing data."
   ]
  },
  {
   "attachments": {},
   "cell_type": "markdown",
   "id": "a9f5afcc",
   "metadata": {},
   "source": [
    "### CREATE\n",
    "\n",
    "- Create tables.\n",
    "- syntax: `CREATE TABLE helloworld (phrase TEXT)` \n",
    "- Creates a table names helloworld whitha single column named phrase with dtype text, i.e. it can store text.\n",
    "\n",
    "- We use `.tables` an sqlite command to show list of tables."
   ]
  },
  {
   "attachments": {},
   "cell_type": "markdown",
   "id": "86649cb9",
   "metadata": {},
   "source": [
    "## INSERT\n",
    "\n",
    "- helps inserting data into table.\n",
    "- syntax: `INSERT INTO helloworld VALUES (\"Hello World!\");`"
   ]
  },
  {
   "attachments": {},
   "cell_type": "markdown",
   "id": "286d1849",
   "metadata": {},
   "source": [
    "### Count\n",
    "\n",
    "- counts no. of values for given query.\n",
    "- syntax: `SELECT COUNT(*) FROM helloworld;`\n",
    "- expected output: 1"
   ]
  },
  {
   "attachments": {},
   "cell_type": "markdown",
   "id": "e9df4edf",
   "metadata": {},
   "source": [
    "## SELECT\n",
    "\n",
    "- we use it to query the data and get insights.\n",
    "- syntax: `SELECT * FROM helloworld WHERE phrase = \"Hello World!\";`\n",
    "- we use **WHERE** to define what specifically we are looking for.\n",
    "- Selecting data is the foundation of SQL\n",
    "- basic syntax:    \n",
    "  SELECT column1, column2, column3...    \n",
    "  FROM table1, table2, table3...    \n",
    "  WHERE condition1 AND condition2... ;\n",
    "\n",
    "- **\\* means select all.**"
   ]
  },
  {
   "attachments": {},
   "cell_type": "markdown",
   "id": "c255433a",
   "metadata": {},
   "source": [
    "## UPDATE\n",
    "\n",
    "- as name suggests it updates the values/records in row.\n",
    "- syntax:    \n",
    "    UPDATE table_name    \n",
    "    SET column1 = value1, column2 = value2, ...    \n",
    "    WHERE key = value"
   ]
  },
  {
   "attachments": {},
   "cell_type": "markdown",
   "id": "bfda5fde",
   "metadata": {},
   "source": [
    "## DELETE\n",
    "\n",
    "- Deleting rows is very similar to updating rows, only that type of update done to the row is a delete.\n",
    "- syntax: `DELETE FROM table_name WHERE column1 = value1 AND column2 = value2`"
   ]
  },
  {
   "attachments": {},
   "cell_type": "markdown",
   "id": "7166fed5",
   "metadata": {},
   "source": [
    "## JOIN\n",
    "\n",
    "- Joining tables is a very powerful concept in SQL, and it is used to combine data from multiple tables into a single result.\n",
    "- syntax:    \n",
    "    SELECT column_name(s)    \n",
    "    FROM table1    \n",
    "    JOIN table2    \n",
    "    ON table1.column_name = table2.column_name;\n",
    "- Joining two tables effectively creates a \"cartesian multiplication\" result from a query with two tables, producing M * N rows in the resulting output (assuming the first table contains M rows and the second table contains N rows).\n",
    "- **ON** is used to specify the column name that the two tables have in common.\n",
    "\n",
    "- ex:           \n",
    "CREATE TABLE customers (\n",
    "    id INTEGER PRIMARY KEY,\n",
    "    first_name TEXT,\n",
    "    last_name TEXT\n",
    ");\n",
    "     \n",
    "CREATE TABLE orders (\n",
    "    id INTEGER PRIMARY KEY,\n",
    "    customer_id INTEGER,\n",
    "    product_name TEXT\n",
    ");\n",
    "       \n",
    "INSERT INTO customers (first_name, last_name) VALUES\n",
    "    (\"John\", \"Doe\");\n",
    "       \n",
    "INSERT INTO orders (customer_id, product_name) VALUES\n",
    "    (last_insert_rowid(), \"Coke\"),\n",
    "    (last_insert_rowid(), \"Sprite\");\n",
    "      \n",
    "INSERT INTO customers (first_name, last_name) VALUES\n",
    "    (\"Eric\", \"Smith\");\n",
    "        \n",
    "INSERT INTO orders (customer_id, product_name) VALUES\n",
    "    (last_insert_rowid(), \"Doritos\");\n",
    "       \n",
    ".mode column      \n",
    ".headers on      \n",
    "SELECT first_name, last_name, COUNT(*) AS total_orders FROM customers       \n",
    "JOIN orders ON orders.customer_id = customers.id       \n",
    "GROUP BY orders.customer_id;      "
   ]
  },
  {
   "attachments": {},
   "cell_type": "markdown",
   "id": "7c8c2253",
   "metadata": {},
   "source": [
    "## GROUP BY\n",
    "\n",
    "- Grouping is a very powerful concept in SQL, and it is used to aggregate multiple rows of data into a smaller set of results.\n",
    "- syntax:    \n",
    "    SELECT column_name(s)    \n",
    "    FROM table_name    \n",
    "    WHERE condition    \n",
    "    GROUP BY column_name(s)    \n",
    "    ORDER BY column_name(s);\n",
    "- **GROUP BY** is used to specify the column name that we want to use to group the data.\n",
    "- **ORDER BY** is used to specify the column name that we want to use to sort the data.\n",
    "- **COUNT** is used to count the number of rows in each group.\n",
    "- **SUM** is used to sum the values in a column in each group.\n",
    "- **AVG** is used to average the values in a column in each group.\n",
    "- **MIN** is used to get the minimum value of a column in each group.\n",
    "- **MAX** is used to get the maximum value of a column in each group.\n",
    "- **HAVING** is used to filter the groups that are returned.\n",
    "- ex:      \n",
    "    SELECT first_name, last_name, COUNT(*) AS total_orders FROM    \n",
    "    customers    \n",
    "    JOIN orders ON orders.customer_id = customers.id     \n",
    "    GROUP BY orders.customer_id;    "
   ]
  },
  {
   "attachments": {},
   "cell_type": "markdown",
   "id": "563730e5",
   "metadata": {},
   "source": [
    "## AGGREGATE\n",
    "- Aggregate functions are functions that aggregate multiple rows of data into a single value.\n",
    "- syntax:    \n",
    "    SELECT aggregate_function(column_name)    \n",
    "    FROM table_name    \n",
    "    WHERE condition    \n",
    "    GROUP BY column_name(s)    \n",
    "    ORDER BY column_name(s);\n",
    "- Aggregating numbers can be done using mathematical functions such as `SUM`, `COUNT`, `AVG`, `MIN`, `MAX`, etc.\n",
    "- Aggregating strings is usually done using a function such as `GROUP_CONCAT` which simply concatenates the fields.\n",
    "\n",
    "\n"
   ]
  },
  {
   "attachments": {},
   "cell_type": "markdown",
   "id": "9151d31b",
   "metadata": {},
   "source": [
    "## HAVING\n",
    "- HAVING clause is an essential part of a group by query, which is almost identical to the WHERE clause, but works on aggregate fields after the aggregation phase, whereas the WHERE clause filters the data set before the aggregation process.\n",
    "- syntax:\n",
    "    "
   ]
  },
  {
   "attachments": {},
   "cell_type": "markdown",
   "id": "7d7c5656",
   "metadata": {},
   "source": [
    "## Rules\n",
    "\n",
    "- While defining a table always use `Primary Key` keyword for atleast one column to create a PK that cannot be null and is unique for all records.\n",
    "- `NOT NULL` is used when we need to maek a column that can't contain NULL value.\n",
    "- "
   ]
  },
  {
   "attachments": {},
   "cell_type": "markdown",
   "id": "b40e3456",
   "metadata": {},
   "source": [
    "#### ref: https://www.learnsqlonline.org/  "
   ]
  }
 ],
 "metadata": {
  "kernelspec": {
   "display_name": "Python 3 (ipykernel)",
   "language": "python",
   "name": "python3"
  },
  "language_info": {
   "codemirror_mode": {
    "name": "ipython",
    "version": 3
   },
   "file_extension": ".py",
   "mimetype": "text/x-python",
   "name": "python",
   "nbconvert_exporter": "python",
   "pygments_lexer": "ipython3",
   "version": "3.9.13"
  }
 },
 "nbformat": 4,
 "nbformat_minor": 5
}
