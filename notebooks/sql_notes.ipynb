{
 "cells": [
  {
   "cell_type": "markdown",
   "id": "069a8f5a",
   "metadata": {},
   "source": [
    "# SQL - Structured Query Language\n",
    "\n",
    "- powerful language for querying and analyzing any amount of data in the world\n",
    "- commonly used for Business Intelligence so companies can make operative decisions\n",
    "- construct long-running data pipelines and process data for business purposes - Spark is a great example of a technology that utilizes SQL syntax to create data pipelines that can continuously process large amounts of data and turn it into another form of useful data, either for insights or for generating new data out of existing data."
   ]
  },
  {
   "cell_type": "markdown",
   "id": "a9f5afcc",
   "metadata": {},
   "source": [
    "### CREATE\n",
    "\n",
    "- Create tables.\n",
    "- syntax: `CREATE TABLE helloworld (phrase TEXT) \n",
    "- Creates a table names helloworld whitha single column named phrase with dtype text, i.e. it can store text.\n",
    "\n",
    "- We use `.tables` an sqlite command to show list of tables."
   ]
  },
  {
   "cell_type": "markdown",
   "id": "86649cb9",
   "metadata": {},
   "source": [
    "## INSERT\n",
    "\n",
    "- helps inserting data into table.\n",
    "- syntax: `INSERT INTO helloworld VALUES (\"Hello World!\");`"
   ]
  },
  {
   "cell_type": "markdown",
   "id": "286d1849",
   "metadata": {},
   "source": [
    "### Count\n",
    "\n",
    "- counts no. of values for given query.\n",
    "- syntax: `SELECT COUNT(*) FROM helloworld;`\n",
    "- expected output: 1"
   ]
  },
  {
   "cell_type": "markdown",
   "id": "e9df4edf",
   "metadata": {},
   "source": [
    "## SELECT\n",
    "\n",
    "- we use it to query the data and get insights.\n",
    "- syntax: `SELECT * FROM helloworld WHERE phrase = \"Hello World!\";`\n",
    "- we use **WHERE** to define what specifically we are looking for.\n",
    "- Selecting data is the foundation of SQL\n",
    "- basic syntax:    \n",
    "  SELECT column1, column2, column3...    \n",
    "  FROM table1, table2, table3...    \n",
    "  WHERE condition1 AND condition2... ;\n",
    "\n",
    "- **\\* means select all.**"
   ]
  },
  {
   "cell_type": "markdown",
   "id": "c255433a",
   "metadata": {},
   "source": [
    "## UPDATE\n",
    "\n",
    "- as name suggests it updates the values/records in row.\n",
    "- syntax:    \n",
    "    UPDATE table_name    \n",
    "    SET column1 = value1, column2 = value2, ...    \n",
    "    WHERE key = value"
   ]
  },
  {
   "cell_type": "markdown",
   "id": "bfda5fde",
   "metadata": {},
   "source": [
    "## DELETE\n",
    "\n",
    "- Deleting rows is very similar to updating rows, only that type of update done to the row is a delete.\n",
    "- syntax: `DELETE FROM table_name WHERE column1 = value1 AND column2 = value2`"
   ]
  },
  {
   "cell_type": "markdown",
   "id": "7d7c5656",
   "metadata": {},
   "source": [
    "## Rules\n",
    "\n",
    "- While defining a table always use `Primary Key` keyword for atleast one column to create a PK that cannot be null and is unique for all records.\n",
    "- `NOT NULL` is used when we need to maek a column that can't contain NULL value.\n",
    "- "
   ]
  },
  {
   "cell_type": "markdown",
   "id": "7166fed5",
   "metadata": {},
   "source": []
  },
  {
   "cell_type": "markdown",
   "id": "7c8c2253",
   "metadata": {},
   "source": []
  },
  {
   "cell_type": "markdown",
   "id": "563730e5",
   "metadata": {},
   "source": []
  }
 ],
 "metadata": {
  "kernelspec": {
   "display_name": "Python 3 (ipykernel)",
   "language": "python",
   "name": "python3"
  },
  "language_info": {
   "codemirror_mode": {
    "name": "ipython",
    "version": 3
   },
   "file_extension": ".py",
   "mimetype": "text/x-python",
   "name": "python",
   "nbconvert_exporter": "python",
   "pygments_lexer": "ipython3",
   "version": "3.9.13"
  }
 },
 "nbformat": 4,
 "nbformat_minor": 5
}
