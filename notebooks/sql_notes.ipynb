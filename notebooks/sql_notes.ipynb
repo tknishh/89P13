{
 "cells": [
  {
   "cell_type": "markdown",
   "id": "59942c07",
   "metadata": {},
   "source": [
    "# SQL - Structured Query Language\n",
    "\n",
    "- powerful language for querying and analyzing any amount of data in the world\n",
    "- commonly used for Business Intelligence so companies can make operative decisions\n",
    "- construct long-running data pipelines and process data for business purposes - Spark is a great example of a technology that utilizes SQL syntax to create data pipelines that can continuously process large amounts of data and turn it into another form of useful data, either for insights or for generating new data out of existing data."
   ]
  }
 ],
 "metadata": {
  "kernelspec": {
   "display_name": "Python 3 (ipykernel)",
   "language": "python",
   "name": "python3"
  },
  "language_info": {
   "codemirror_mode": {
    "name": "ipython",
    "version": 3
   },
   "file_extension": ".py",
   "mimetype": "text/x-python",
   "name": "python",
   "nbconvert_exporter": "python",
   "pygments_lexer": "ipython3",
   "version": "3.9.13"
  }
 },
 "nbformat": 4,
 "nbformat_minor": 5
}
