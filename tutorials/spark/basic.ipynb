{
 "cells": [
  {
   "cell_type": "code",
   "execution_count": 1,
   "metadata": {},
   "outputs": [],
   "source": [
    "# SparkSession: It is a Unified entry point for manipulating data with Spark. Before it, the SparkContext was the entry point. And needed a SparkConf object to configure it.\n",
    "\n",
    "from pyspark.sql import SparkSession\n",
    "\n",
    "# Create a Spark Apllication\n",
    "spark = SparkSession.builder.getOrCreate()"
   ]
  },
  {
   "cell_type": "code",
   "execution_count": 2,
   "metadata": {},
   "outputs": [
    {
     "data": {
      "text/html": [
       "\n",
       "            <div>\n",
       "                <p><b>SparkSession - in-memory</b></p>\n",
       "                \n",
       "        <div>\n",
       "            <p><b>SparkContext</b></p>\n",
       "\n",
       "            <p><a href=\"http://Tedd:4040\">Spark UI</a></p>\n",
       "\n",
       "            <dl>\n",
       "              <dt>Version</dt>\n",
       "                <dd><code>v3.4.1</code></dd>\n",
       "              <dt>Master</dt>\n",
       "                <dd><code>local[*]</code></dd>\n",
       "              <dt>AppName</dt>\n",
       "                <dd><code>pyspark-shell</code></dd>\n",
       "            </dl>\n",
       "        </div>\n",
       "        \n",
       "            </div>\n",
       "        "
      ],
      "text/plain": [
       "<pyspark.sql.session.SparkSession at 0x12199a28130>"
      ]
     },
     "execution_count": 2,
     "metadata": {},
     "output_type": "execute_result"
    }
   ],
   "source": [
    "spark"
   ]
  },
  {
   "cell_type": "code",
   "execution_count": 3,
   "metadata": {},
   "outputs": [
    {
     "name": "stdout",
     "output_type": "stream",
     "text": [
      "+--------+------------------+------------------+--------------------+\n",
      "|    Name|             Start|               End|            Activity|\n",
      "+--------+------------------+------------------+--------------------+\n",
      "|Priyanka|10/Oct/23 10:43 PM|20/Jul/23 03:31 AM|          Inspection|\n",
      "|   Jyoti|24/Aug/23 05:55 AM|17/May/23 08:19 PM|   Remote Inspection|\n",
      "|   Jyoti|08/Jun/23 08:19 AM|08/Apr/23 05:55 AM|             Updates|\n",
      "|Priyanka|21/Sep/23 03:31 PM|27/May/23 10:43 AM|           Reporting|\n",
      "|Priyanka|07/Oct/23 03:31 AM|30/Apr/23 01:07 PM|  Reply to Customers|\n",
      "|Priyanka|19/May/23 03:31 AM|11/May/23 08:19 PM|             Updates|\n",
      "|  Deepti|02/Aug/23 01:07 PM|25/Apr/23 10:43 AM|        Fund raising|\n",
      "|   Jyoti|04/May/23 10:43 PM|17/Aug/23 08:19 PM|Business Development|\n",
      "|Priyanka|15/Aug/23 03:31 AM|02/Jul/23 01:07 PM|           Reporting|\n",
      "|  Sharan|08/Jun/23 01:07 PM|24/Sep/23 01:07 AM|  Reply to Customers|\n",
      "|Priyanka|06/Apr/23 01:07 AM|15/May/23 08:19 PM|          Send Email|\n",
      "|  Deepti|01/Oct/23 03:31 AM|23/Jul/23 08:19 AM|             Podcast|\n",
      "|Priyanka|20/Sep/23 10:43 AM|19/Aug/23 08:19 PM|                Call|\n",
      "|    Ravi|12/May/23 10:43 AM|30/Mar/23 01:07 PM|          Inspection|\n",
      "|  Sharan|18/Sep/23 10:43 AM|31/Jul/23 03:31 AM|Business Development|\n",
      "|    Ravi|17/Apr/23 03:31 PM|19/Apr/23 01:07 AM|             Updates|\n",
      "|Priyanka|18/Aug/23 01:07 AM|15/Sep/23 08:19 PM|   Remote Inspection|\n",
      "|  Sharan|06/Sep/23 08:19 AM|11/May/23 03:31 PM|          Inspection|\n",
      "|Priyanka|20/May/23 10:43 AM|20/Apr/23 05:55 PM|        Fund raising|\n",
      "|  Sharan|06/Sep/23 01:07 AM|17/Jul/23 08:19 PM|             Podcast|\n",
      "+--------+------------------+------------------+--------------------+\n",
      "only showing top 20 rows\n",
      "\n"
     ]
    }
   ],
   "source": [
    "# To read File we use spark.read\n",
    "file_path = \"timeseries.csv\"\n",
    "tips = spark.read.csv(file_path, header = True)\n",
    "tips.show()"
   ]
  },
  {
   "cell_type": "code",
   "execution_count": 4,
   "metadata": {},
   "outputs": [
    {
     "data": {
      "text/plain": [
       "pyspark.sql.dataframe.DataFrame"
      ]
     },
     "execution_count": 4,
     "metadata": {},
     "output_type": "execute_result"
    }
   ],
   "source": [
    "type(tips)"
   ]
  },
  {
   "cell_type": "code",
   "execution_count": 8,
   "metadata": {},
   "outputs": [],
   "source": [
    "# Using the below function we create a table in default database of spark.\n",
    "tips.createOrReplaceTempView(\"tips\")"
   ]
  },
  {
   "cell_type": "code",
   "execution_count": 9,
   "metadata": {},
   "outputs": [],
   "source": [
    "# Good thing about spark table is we can query it as we do in SQL.\n",
    "\n",
    "query = \"Select * from tips where tips.name = 'Priyanka';\""
   ]
  },
  {
   "cell_type": "code",
   "execution_count": 11,
   "metadata": {},
   "outputs": [
    {
     "name": "stdout",
     "output_type": "stream",
     "text": [
      "+--------+------------------+------------------+------------------+\n",
      "|    Name|             Start|               End|          Activity|\n",
      "+--------+------------------+------------------+------------------+\n",
      "|Priyanka|10/Oct/23 10:43 PM|20/Jul/23 03:31 AM|        Inspection|\n",
      "|Priyanka|21/Sep/23 03:31 PM|27/May/23 10:43 AM|         Reporting|\n",
      "|Priyanka|07/Oct/23 03:31 AM|30/Apr/23 01:07 PM|Reply to Customers|\n",
      "|Priyanka|19/May/23 03:31 AM|11/May/23 08:19 PM|           Updates|\n",
      "|Priyanka|15/Aug/23 03:31 AM|02/Jul/23 01:07 PM|         Reporting|\n",
      "|Priyanka|06/Apr/23 01:07 AM|15/May/23 08:19 PM|        Send Email|\n",
      "|Priyanka|20/Sep/23 10:43 AM|19/Aug/23 08:19 PM|              Call|\n",
      "|Priyanka|18/Aug/23 01:07 AM|15/Sep/23 08:19 PM| Remote Inspection|\n",
      "|Priyanka|20/May/23 10:43 AM|20/Apr/23 05:55 PM|      Fund raising|\n",
      "|Priyanka|08/Apr/23 05:55 PM|03/Sep/23 01:07 AM|           Updates|\n",
      "|Priyanka|19/Sep/23 03:31 AM|12/Oct/23 10:43 AM|           Updates|\n",
      "|Priyanka|04/Oct/23 03:31 AM|08/Apr/23 05:55 PM|              Call|\n",
      "|Priyanka|27/Jul/23 01:07 PM|01/Jun/23 10:43 AM|              Call|\n",
      "|Priyanka|20/May/23 10:43 AM|26/Apr/23 05:55 AM|        Inspection|\n",
      "|Priyanka|09/Apr/23 08:19 PM|17/Jun/23 08:19 PM|         Reporting|\n",
      "|Priyanka|23/Jun/23 05:55 AM|04/May/23 05:55 PM|           Updates|\n",
      "|Priyanka|29/Aug/23 10:43 PM|09/Sep/23 03:31 AM|      Fund raising|\n",
      "|Priyanka|09/Aug/23 10:43 AM|13/Apr/23 03:31 AM|              Call|\n",
      "|Priyanka|28/Sep/23 03:31 PM|25/May/23 03:31 AM|        Inspection|\n",
      "|Priyanka|31/Mar/23 05:55 PM|11/Aug/23 05:55 PM|Reply to Customers|\n",
      "+--------+------------------+------------------+------------------+\n",
      "only showing top 20 rows\n",
      "\n"
     ]
    }
   ],
   "source": [
    "tips_sql = spark.sql(query)\n",
    "tips_sql.show()"
   ]
  },
  {
   "cell_type": "code",
   "execution_count": 13,
   "metadata": {},
   "outputs": [
    {
     "data": {
      "text/html": [
       "<div>\n",
       "<style scoped>\n",
       "    .dataframe tbody tr th:only-of-type {\n",
       "        vertical-align: middle;\n",
       "    }\n",
       "\n",
       "    .dataframe tbody tr th {\n",
       "        vertical-align: top;\n",
       "    }\n",
       "\n",
       "    .dataframe thead th {\n",
       "        text-align: right;\n",
       "    }\n",
       "</style>\n",
       "<table border=\"1\" class=\"dataframe\">\n",
       "  <thead>\n",
       "    <tr style=\"text-align: right;\">\n",
       "      <th></th>\n",
       "      <th>Name</th>\n",
       "      <th>Start</th>\n",
       "      <th>End</th>\n",
       "      <th>Activity</th>\n",
       "    </tr>\n",
       "  </thead>\n",
       "  <tbody>\n",
       "    <tr>\n",
       "      <th>0</th>\n",
       "      <td>Priyanka</td>\n",
       "      <td>10/Oct/23 10:43 PM</td>\n",
       "      <td>20/Jul/23 03:31 AM</td>\n",
       "      <td>Inspection</td>\n",
       "    </tr>\n",
       "    <tr>\n",
       "      <th>1</th>\n",
       "      <td>Priyanka</td>\n",
       "      <td>21/Sep/23 03:31 PM</td>\n",
       "      <td>27/May/23 10:43 AM</td>\n",
       "      <td>Reporting</td>\n",
       "    </tr>\n",
       "    <tr>\n",
       "      <th>2</th>\n",
       "      <td>Priyanka</td>\n",
       "      <td>07/Oct/23 03:31 AM</td>\n",
       "      <td>30/Apr/23 01:07 PM</td>\n",
       "      <td>Reply to Customers</td>\n",
       "    </tr>\n",
       "    <tr>\n",
       "      <th>3</th>\n",
       "      <td>Priyanka</td>\n",
       "      <td>19/May/23 03:31 AM</td>\n",
       "      <td>11/May/23 08:19 PM</td>\n",
       "      <td>Updates</td>\n",
       "    </tr>\n",
       "    <tr>\n",
       "      <th>4</th>\n",
       "      <td>Priyanka</td>\n",
       "      <td>15/Aug/23 03:31 AM</td>\n",
       "      <td>02/Jul/23 01:07 PM</td>\n",
       "      <td>Reporting</td>\n",
       "    </tr>\n",
       "  </tbody>\n",
       "</table>\n",
       "</div>"
      ],
      "text/plain": [
       "       Name               Start                 End            Activity\n",
       "0  Priyanka  10/Oct/23 10:43 PM  20/Jul/23 03:31 AM          Inspection\n",
       "1  Priyanka  21/Sep/23 03:31 PM  27/May/23 10:43 AM           Reporting\n",
       "2  Priyanka  07/Oct/23 03:31 AM  30/Apr/23 01:07 PM  Reply to Customers\n",
       "3  Priyanka  19/May/23 03:31 AM  11/May/23 08:19 PM             Updates\n",
       "4  Priyanka  15/Aug/23 03:31 AM  02/Jul/23 01:07 PM           Reporting"
      ]
     },
     "execution_count": 13,
     "metadata": {},
     "output_type": "execute_result"
    }
   ],
   "source": [
    "# To convert into pandas dataframe to perform pandas func.\n",
    "tips_df = tips_sql.toPandas()\n",
    "tips_df.head()"
   ]
  },
  {
   "cell_type": "code",
   "execution_count": 16,
   "metadata": {},
   "outputs": [],
   "source": [
    "filterA = tips.Name == 'Priyanka'\n",
    "filterB = tips.Activity == 'Reporting'\n",
    "tips_fl = tips.filter(filterA).filter(filterB)"
   ]
  },
  {
   "cell_type": "code",
   "execution_count": 18,
   "metadata": {},
   "outputs": [
    {
     "name": "stdout",
     "output_type": "stream",
     "text": [
      "+--------+------------------+------------------+---------+\n",
      "|    Name|             Start|               End| Activity|\n",
      "+--------+------------------+------------------+---------+\n",
      "|Priyanka|21/Sep/23 03:31 PM|27/May/23 10:43 AM|Reporting|\n",
      "|Priyanka|15/Aug/23 03:31 AM|02/Jul/23 01:07 PM|Reporting|\n",
      "|Priyanka|09/Apr/23 08:19 PM|17/Jun/23 08:19 PM|Reporting|\n",
      "|Priyanka|10/Aug/23 05:55 AM|27/Jul/23 05:55 AM|Reporting|\n",
      "|Priyanka|24/Jul/23 01:07 AM|22/Jun/23 10:43 PM|Reporting|\n",
      "|Priyanka|30/Mar/23 01:07 PM|12/Oct/23 05:55 PM|Reporting|\n",
      "|Priyanka|02/Apr/23 10:43 AM|21/Apr/23 05:55 PM|Reporting|\n",
      "|Priyanka|16/Jul/23 10:43 PM|19/Jun/23 10:43 PM|Reporting|\n",
      "|Priyanka|25/Apr/23 05:55 PM|27/May/23 01:07 AM|Reporting|\n",
      "|Priyanka|30/Jun/23 05:55 PM|29/Aug/23 05:55 AM|Reporting|\n",
      "|Priyanka|04/Sep/23 08:19 AM|31/May/23 08:19 PM|Reporting|\n",
      "|Priyanka|21/Jun/23 05:55 PM|27/Apr/23 08:19 PM|Reporting|\n",
      "|Priyanka|16/Sep/23 03:31 AM|01/Apr/23 08:19 AM|Reporting|\n",
      "|Priyanka|31/Mar/23 10:43 PM|05/Oct/23 10:43 AM|Reporting|\n",
      "|Priyanka|06/Jul/23 01:07 PM|24/Jun/23 05:55 PM|Reporting|\n",
      "|Priyanka|23/Aug/23 01:07 PM|14/Sep/23 05:55 PM|Reporting|\n",
      "|Priyanka|16/Jun/23 10:43 AM|15/May/23 01:07 AM|Reporting|\n",
      "|Priyanka|31/Mar/23 05:55 AM|02/Oct/23 05:55 AM|Reporting|\n",
      "|Priyanka|04/Apr/23 01:07 AM|13/Aug/23 05:55 PM|Reporting|\n",
      "|Priyanka|09/Sep/23 03:31 AM|21/Sep/23 01:07 AM|Reporting|\n",
      "+--------+------------------+------------------+---------+\n",
      "only showing top 20 rows\n",
      "\n"
     ]
    }
   ],
   "source": [
    "tips_fl.show()"
   ]
  },
  {
   "cell_type": "code",
   "execution_count": null,
   "metadata": {},
   "outputs": [],
   "source": []
  }
 ],
 "metadata": {
  "kernelspec": {
   "display_name": "Python 3",
   "language": "python",
   "name": "python3"
  },
  "language_info": {
   "codemirror_mode": {
    "name": "ipython",
    "version": 3
   },
   "file_extension": ".py",
   "mimetype": "text/x-python",
   "name": "python",
   "nbconvert_exporter": "python",
   "pygments_lexer": "ipython3",
   "version": "3.9.13"
  },
  "orig_nbformat": 4
 },
 "nbformat": 4,
 "nbformat_minor": 2
}
